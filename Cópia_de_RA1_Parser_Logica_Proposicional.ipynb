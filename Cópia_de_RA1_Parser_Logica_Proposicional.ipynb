{
  "nbformat": 4,
  "nbformat_minor": 0,
  "metadata": {
    "colab": {
      "provenance": []
    },
    "kernelspec": {
      "name": "python3",
      "display_name": "Python 3"
    },
    "language_info": {
      "name": "python"
    }
  },
  "cells": [
    {
      "cell_type": "markdown",
      "source": [
        "## Célula de leitura do arquivo"
      ],
      "metadata": {
        "id": "fRdrvxymJeO_"
      }
    },
    {
      "cell_type": "code",
      "execution_count": 135,
      "metadata": {
        "id": "bQ9VsDw3HLO3",
        "colab": {
          "base_uri": "https://localhost:8080/",
          "height": 70
        },
        "outputId": "83faf96d-1494-4f02-e1f9-27651d912798"
      },
      "outputs": [
        {
          "output_type": "execute_result",
          "data": {
            "text/plain": [
              "'\\n  def ler_arquivo(nome_arquivo):\\n      try:\\n          with open(nome_arquivo, \"r\") as f:\\n              linhas = f.readlines()\\n          return linhas\\n      except FileNotFoundError:\\n          print(\"Arquivo de entrada não encontrado!\")\\n          return []\\n\\n\\n  linhas_arquivo = ler_arquivo(\"testes.txt\")\\n'"
            ],
            "application/vnd.google.colaboratory.intrinsic+json": {
              "type": "string"
            }
          },
          "metadata": {},
          "execution_count": 135
        }
      ],
      "source": [
        "'''\n",
        "  def ler_arquivo(nome_arquivo):\n",
        "      try:\n",
        "          with open(nome_arquivo, \"r\") as f:\n",
        "              linhas = f.readlines()\n",
        "          return linhas\n",
        "      except FileNotFoundError:\n",
        "          print(\"Arquivo de entrada não encontrado!\")\n",
        "          return []\n",
        "\n",
        "\n",
        "  linhas_arquivo = ler_arquivo(\"testes.txt\")\n",
        "'''"
      ]
    },
    {
      "cell_type": "markdown",
      "source": [
        "## Conjunto de Regras"
      ],
      "metadata": {
        "id": "aXpHpqtQJlwe"
      }
    },
    {
      "cell_type": "code",
      "source": [
        "regras = {\n",
        "    \"FORMULA\": \"CONSTANTE | PROPOSICAO | FORMULAUNARIA | FORMULABINARIA\",\n",
        "    \"CONSTANTE\": \"true | false\",\n",
        "    \"PROPOSICAO\": \"[0-9][0-9a-z]*\",\n",
        "    \"FORMULAUNARIA\": \"( OPERATORUNARIO FORMULA )\",\n",
        "    \"FORMULABINARIA\": \"( OPERATORBINARIO FORMULA FORMULA )\",\n",
        "    \"OPERATORUNARIO\": \"\\\\neg\",\n",
        "    \"OPERATORBINARIO\": \"\\\\wedge | \\\\vee | \\\\rightarrow | \\\\leftrightarrow\",\n",
        "    \"ABREPAREN\": \"(\",\n",
        "    \"FECHAPAREN\": \")\"\n",
        "}\n",
        "\n"
      ],
      "metadata": {
        "id": "fSdd-azvJpK8"
      },
      "execution_count": 136,
      "outputs": []
    },
    {
      "cell_type": "code",
      "source": [
        "# Funções auxiliares\n",
        "# Extrai operadores e constantes\n",
        "operadores_binarios = [op.strip() for op in regras[\"OPERATORBINARIO\"].split(\"|\")]\n",
        "operadores_unarios = [regras[\"OPERATORUNARIO\"]]\n",
        "constantes = [c.strip() for c in regras[\"CONSTANTE\"].split(\"|\")]\n",
        "\n",
        "# Verifica se é uma proposição válida\n",
        "def eh_proposicao(token):\n",
        "    if not token or not token[0].isdigit():\n",
        "        return False\n",
        "    for c in token[1:]:\n",
        "        if not (c.isdigit() or 'a' <= c <= 'z'):\n",
        "            return False\n",
        "    return True\n",
        "\n",
        "# Verifica se é constante\n",
        "def eh_constante(token):\n",
        "    return token in constantes"
      ],
      "metadata": {
        "id": "jxUFNwuNLjXn"
      },
      "execution_count": 137,
      "outputs": []
    },
    {
      "cell_type": "code",
      "source": [
        "class StateMachine:\n",
        "    def __init__(self):\n",
        "        self.state = 'start'\n",
        "\n",
        "        self.transitions = {\n",
        "            'start': {'CONSTANTE': 'formula_simples_correta',\n",
        "                      'PROPOSICAO': 'formula_simples_correta',\n",
        "                      'ABREPAREN': 'abre_parenteses'},\n",
        "\n",
        "            'formula_simples_correta': {' ': 'formula_simples_correta'},\n",
        "\n",
        "            'abre_parenteses': {' ': 'abre_parenteses',\n",
        "                                'ABREPAREN': 'abre_parenteses',\n",
        "                                'OPERADORUNARIO': 'operador_unario',\n",
        "                                'OPERADORBINARIO': 'operador_binario',},\n",
        "\n",
        "            'operador_unario': {' ': 'operador_unario',\n",
        "                                'CONSTANTE': 'termo_unario',\n",
        "                                'PROPOSICAO': 'termo_unario',\n",
        "                                'ABREPAREN': 'abre_parenteses'},\n",
        "\n",
        "            'termo_unario': {' ': 'termo_unario',\n",
        "                             'FECHAPAREN': 'fecha_parenteses'},\n",
        "\n",
        "            'operador_binario': {' ': 'operador_binario',\n",
        "                                 'ABREPAREN': 'abre_parenteses',\n",
        "                                 'CONSTANTE': 'termo_binario_nao_final',\n",
        "                                 'PROPOSICAO': 'termo_binario_nao_final' },\n",
        "\n",
        "            'termo_binario_nao_final': {' ': 'termo_binario_nao_final',\n",
        "                                        'CONSTANTE': 'termo_binario_final',\n",
        "                                        'PROPOSICAO': 'termo_binario_final',\n",
        "                                        'ABREPAREN': 'abre_parenteses'},\n",
        "\n",
        "            'termo_binario_final': {' ': 'termo_binario_final',\n",
        "                                        'FECHAPAREN': 'fecha_parenteses'},\n",
        "\n",
        "            'fecha_parenteses': {' ': 'fecha_parenteses',\n",
        "                                 'ABREPAREN': 'abre_parenteses',\n",
        "                                 'FECHAPAREN' : 'fecha_parenteses',\n",
        "                                 'CONSTANTE' : 'termo_binario_final',\n",
        "                                 'PROPOSICAO': 'termo_binario_final'}\n",
        "        }\n",
        "\n",
        "        self.final_states = {'formula_simples_correta', 'fecha_parenteses'}\n",
        "\n",
        "    def trigger(self, event):\n",
        "        if event in self.transitions[self.state]:\n",
        "            new_state = self.transitions[self.state][event]\n",
        "            self.state = new_state\n",
        "\n",
        "    def process(self, tokens):\n",
        "      self.state = 'start'\n",
        "\n",
        "      tokens_converted = [] # convertendo cada token para simplificar o processo da maquina de estados\n",
        "      for token in tokens:\n",
        "        if eh_constante(token):\n",
        "          tokens_converted.append('CONSTANTE')\n",
        "\n",
        "        elif token == '(':\n",
        "          tokens_converted.append('ABREPAREN')\n",
        "        elif token == ')':\n",
        "          tokens_converted.append('FECHAPAREN')\n",
        "\n",
        "        elif token == '\\\\neg':\n",
        "          tokens_converted.append('OPERADORUNARIO')\n",
        "\n",
        "        elif token == '\\\\wedge' or token == \"\\\\vee\" or token == \"\\\\rightarrow\" or token == \"\\\\leftrightarrow\":\n",
        "          tokens_converted.append('OPERADORBINARIO')\n",
        "\n",
        "        elif eh_proposicao(token):\n",
        "          tokens_converted.append('PROPOSICAO')\n",
        "\n",
        "        else:\n",
        "          tokens_converted.append(token)\n",
        "\n",
        "      for token in tokens_converted:\n",
        "          if token not in self.transitions.get(self.state, {}):\n",
        "              return False\n",
        "          self.trigger(token)\n",
        "\n",
        "      if(self.state in self.final_states):\n",
        "        return tokens"
      ],
      "metadata": {
        "id": "ndc3cMYDxRKy"
      },
      "execution_count": 138,
      "outputs": []
    },
    {
      "cell_type": "code",
      "source": [
        "# Parser usando uma tabela de parsing\n",
        "\n",
        "class LL1_Parser:\n",
        "\n",
        "    # Iniciando a classe com os tokens, inserindo $ na ultima posição para validar o fim\n",
        "    def __init__(self, tokens):\n",
        "        self.tokens = tokens + ['$']\n",
        "        self.pos = 0\n",
        "\n",
        "    # Métodos para progredir na lista de tokens:\n",
        "    # pegar a token atual\n",
        "    # ir para a proxima token\n",
        "    # Método que vai para a proxima token ao encontrar o valor esperado na lista de tokens\n",
        "    def atual(self):\n",
        "        return self.tokens[self.pos]\n",
        "\n",
        "    def proximo(self):\n",
        "        self.pos += 1\n",
        "\n",
        "    def match(self, esperado):\n",
        "        # print(\"MATCH: \" + esperado)\n",
        "        if self.atual() == esperado:\n",
        "            self.proximo()\n",
        "\n",
        "    # Método que inicia o parser com a regra inicial F (FORMULA)\n",
        "    def parse(self):\n",
        "        self.F()\n",
        "        if self.atual() != '$':\n",
        "            return False\n",
        "        return True\n",
        "\n",
        "    # Métodos para tratar cada regra de produção\n",
        "    # o método verifica o token atual e utiliza a regra necessária conforme o token identificado\n",
        "    # se nenhuma regra for utilizada para algum token então o proximo token não vai ser chamado e a validação não vai chegar em '$'\n",
        "\n",
        "    def F(self):\n",
        "        token = self.atual()\n",
        "\n",
        "        if eh_constante(token):\n",
        "            self.C()\n",
        "        elif eh_proposicao(token):\n",
        "            self.P()\n",
        "        elif token == '(':\n",
        "            lookahead = self.tokens[self.pos + 1]\n",
        "            if lookahead == '\\\\neg':\n",
        "                self.FU()\n",
        "            elif lookahead in {'\\\\wedge', '\\\\vee', '\\\\rightarrow', '\\\\leftrightarrow'}:\n",
        "                self.FB()\n",
        "\n",
        "    def C(self):\n",
        "        token = self.atual()\n",
        "        if eh_constante(token):\n",
        "            self.match(token)\n",
        "\n",
        "    def P(self):\n",
        "        token = self.atual()\n",
        "        if eh_proposicao(token):\n",
        "            self.match(self.atual())\n",
        "\n",
        "    def FU(self):\n",
        "        self.match('(')\n",
        "        self.match('\\\\neg')\n",
        "        self.F()\n",
        "        self.match(')')\n",
        "\n",
        "    def FB(self):\n",
        "        self.match('(')\n",
        "        op = self.atual()\n",
        "        if op in {'\\\\wedge', '\\\\vee', '\\\\rightarrow', '\\\\leftrightarrow'}:\n",
        "            self.match(op)\n",
        "        self.F()\n",
        "        self.F()\n",
        "        self.match(')')"
      ],
      "metadata": {
        "id": "gcyTLJJvX2md"
      },
      "execution_count": 139,
      "outputs": []
    },
    {
      "cell_type": "code",
      "source": [
        "# Lê o arquivo testes.txt\n",
        "caminho_arquivo = \"/content/testes.txt\"\n",
        "\n",
        "with open(caminho_arquivo, \"r\", encoding=\"utf-8\") as f:\n",
        "    linhas = f.readlines()\n",
        "\n",
        "qtd = int(linhas[0].strip())\n",
        "expressoes = [linha.strip() for linha in linhas[1:]]\n",
        "\n",
        "# Valida e imprime o resultado de cada expressão\n",
        "for expr in expressoes:\n",
        "    tokens = expr.replace(\"(\", \" ( \").replace(\")\", \" ) \").split()\n",
        "\n",
        "    fsm = StateMachine()\n",
        "\n",
        "    result = fsm.process(tokens)\n",
        "    if  result == False:\n",
        "        print(\"invalida\")\n",
        "    else:\n",
        "      parser = LL1_Parser(result)\n",
        "      if parser.parse():\n",
        "          print(\"valida\")\n",
        "      else:\n",
        "          print(\"invalida\")\n"
      ],
      "metadata": {
        "colab": {
          "base_uri": "https://localhost:8080/"
        },
        "id": "fs6mSYOVwxMS",
        "outputId": "7d8b512d-9b9d-4ae0-847b-a850f30be515"
      },
      "execution_count": 140,
      "outputs": [
        {
          "output_type": "stream",
          "name": "stdout",
          "text": [
            "valida\n",
            "valida\n",
            "valida\n",
            "invalida\n",
            "valida\n",
            "valida\n",
            "valida\n",
            "valida\n",
            "valida\n",
            "valida\n",
            "valida\n",
            "valida\n"
          ]
        }
      ]
    }
  ]
}